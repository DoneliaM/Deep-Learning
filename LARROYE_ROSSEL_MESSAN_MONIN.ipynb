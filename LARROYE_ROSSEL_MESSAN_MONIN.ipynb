{
  "nbformat": 4,
  "nbformat_minor": 0,
  "metadata": {
    "colab": {
      "name": "LARROYE_ROSSEL_MESSAN_MONIN.ipynb",
      "provenance": [],
      "collapsed_sections": []
    },
    "kernelspec": {
      "name": "python3",
      "display_name": "Python 3"
    },
    "widgets": {
      "application/vnd.jupyter.widget-state+json": {
        "613ad05d380d40e2b88a59051d86a52d": {
          "model_module": "@jupyter-widgets/controls",
          "model_name": "HBoxModel",
          "model_module_version": "1.5.0",
          "state": {
            "_view_name": "HBoxView",
            "_dom_classes": [],
            "_model_name": "HBoxModel",
            "_view_module": "@jupyter-widgets/controls",
            "_model_module_version": "1.5.0",
            "_view_count": null,
            "_view_module_version": "1.5.0",
            "box_style": "",
            "layout": "IPY_MODEL_feb87aea447747f09d46e24d945ca568",
            "_model_module": "@jupyter-widgets/controls",
            "children": [
              "IPY_MODEL_12dddfb0cd5f44d88b977de5b6aeee93",
              "IPY_MODEL_d4420dac3f3b4231b2951e0e1d4bf58f"
            ]
          }
        },
        "feb87aea447747f09d46e24d945ca568": {
          "model_module": "@jupyter-widgets/base",
          "model_name": "LayoutModel",
          "model_module_version": "1.2.0",
          "state": {
            "_view_name": "LayoutView",
            "grid_template_rows": null,
            "right": null,
            "justify_content": null,
            "_view_module": "@jupyter-widgets/base",
            "overflow": null,
            "_model_module_version": "1.2.0",
            "_view_count": null,
            "flex_flow": null,
            "width": null,
            "min_width": null,
            "border": null,
            "align_items": null,
            "bottom": null,
            "_model_module": "@jupyter-widgets/base",
            "top": null,
            "grid_column": null,
            "overflow_y": null,
            "overflow_x": null,
            "grid_auto_flow": null,
            "grid_area": null,
            "grid_template_columns": null,
            "flex": null,
            "_model_name": "LayoutModel",
            "justify_items": null,
            "grid_row": null,
            "max_height": null,
            "align_content": null,
            "visibility": null,
            "align_self": null,
            "height": null,
            "min_height": null,
            "padding": null,
            "grid_auto_rows": null,
            "grid_gap": null,
            "max_width": null,
            "order": null,
            "_view_module_version": "1.2.0",
            "grid_template_areas": null,
            "object_position": null,
            "object_fit": null,
            "grid_auto_columns": null,
            "margin": null,
            "display": null,
            "left": null
          }
        },
        "12dddfb0cd5f44d88b977de5b6aeee93": {
          "model_module": "@jupyter-widgets/controls",
          "model_name": "FloatProgressModel",
          "model_module_version": "1.5.0",
          "state": {
            "_view_name": "ProgressView",
            "style": "IPY_MODEL_e7ebea4f870e48b3864008a8d88153dd",
            "_dom_classes": [],
            "description": "100%",
            "_model_name": "FloatProgressModel",
            "bar_style": "success",
            "max": 1900,
            "_view_module": "@jupyter-widgets/controls",
            "_model_module_version": "1.5.0",
            "value": 1900,
            "_view_count": null,
            "_view_module_version": "1.5.0",
            "orientation": "horizontal",
            "min": 0,
            "description_tooltip": null,
            "_model_module": "@jupyter-widgets/controls",
            "layout": "IPY_MODEL_91f38e6bad8145ddbb76dea5653815ac"
          }
        },
        "d4420dac3f3b4231b2951e0e1d4bf58f": {
          "model_module": "@jupyter-widgets/controls",
          "model_name": "HTMLModel",
          "model_module_version": "1.5.0",
          "state": {
            "_view_name": "HTMLView",
            "style": "IPY_MODEL_3c362af8df334a2bb923be695af892fb",
            "_dom_classes": [],
            "description": "",
            "_model_name": "HTMLModel",
            "placeholder": "​",
            "_view_module": "@jupyter-widgets/controls",
            "_model_module_version": "1.5.0",
            "value": " 1900/1900 [00:04&lt;00:00, 425.74it/s]",
            "_view_count": null,
            "_view_module_version": "1.5.0",
            "description_tooltip": null,
            "_model_module": "@jupyter-widgets/controls",
            "layout": "IPY_MODEL_f8c265fad45e402297d3e22d0dc175bd"
          }
        },
        "e7ebea4f870e48b3864008a8d88153dd": {
          "model_module": "@jupyter-widgets/controls",
          "model_name": "ProgressStyleModel",
          "model_module_version": "1.5.0",
          "state": {
            "_view_name": "StyleView",
            "_model_name": "ProgressStyleModel",
            "description_width": "initial",
            "_view_module": "@jupyter-widgets/base",
            "_model_module_version": "1.5.0",
            "_view_count": null,
            "_view_module_version": "1.2.0",
            "bar_color": null,
            "_model_module": "@jupyter-widgets/controls"
          }
        },
        "91f38e6bad8145ddbb76dea5653815ac": {
          "model_module": "@jupyter-widgets/base",
          "model_name": "LayoutModel",
          "model_module_version": "1.2.0",
          "state": {
            "_view_name": "LayoutView",
            "grid_template_rows": null,
            "right": null,
            "justify_content": null,
            "_view_module": "@jupyter-widgets/base",
            "overflow": null,
            "_model_module_version": "1.2.0",
            "_view_count": null,
            "flex_flow": null,
            "width": null,
            "min_width": null,
            "border": null,
            "align_items": null,
            "bottom": null,
            "_model_module": "@jupyter-widgets/base",
            "top": null,
            "grid_column": null,
            "overflow_y": null,
            "overflow_x": null,
            "grid_auto_flow": null,
            "grid_area": null,
            "grid_template_columns": null,
            "flex": null,
            "_model_name": "LayoutModel",
            "justify_items": null,
            "grid_row": null,
            "max_height": null,
            "align_content": null,
            "visibility": null,
            "align_self": null,
            "height": null,
            "min_height": null,
            "padding": null,
            "grid_auto_rows": null,
            "grid_gap": null,
            "max_width": null,
            "order": null,
            "_view_module_version": "1.2.0",
            "grid_template_areas": null,
            "object_position": null,
            "object_fit": null,
            "grid_auto_columns": null,
            "margin": null,
            "display": null,
            "left": null
          }
        },
        "3c362af8df334a2bb923be695af892fb": {
          "model_module": "@jupyter-widgets/controls",
          "model_name": "DescriptionStyleModel",
          "model_module_version": "1.5.0",
          "state": {
            "_view_name": "StyleView",
            "_model_name": "DescriptionStyleModel",
            "description_width": "",
            "_view_module": "@jupyter-widgets/base",
            "_model_module_version": "1.5.0",
            "_view_count": null,
            "_view_module_version": "1.2.0",
            "_model_module": "@jupyter-widgets/controls"
          }
        },
        "f8c265fad45e402297d3e22d0dc175bd": {
          "model_module": "@jupyter-widgets/base",
          "model_name": "LayoutModel",
          "model_module_version": "1.2.0",
          "state": {
            "_view_name": "LayoutView",
            "grid_template_rows": null,
            "right": null,
            "justify_content": null,
            "_view_module": "@jupyter-widgets/base",
            "overflow": null,
            "_model_module_version": "1.2.0",
            "_view_count": null,
            "flex_flow": null,
            "width": null,
            "min_width": null,
            "border": null,
            "align_items": null,
            "bottom": null,
            "_model_module": "@jupyter-widgets/base",
            "top": null,
            "grid_column": null,
            "overflow_y": null,
            "overflow_x": null,
            "grid_auto_flow": null,
            "grid_area": null,
            "grid_template_columns": null,
            "flex": null,
            "_model_name": "LayoutModel",
            "justify_items": null,
            "grid_row": null,
            "max_height": null,
            "align_content": null,
            "visibility": null,
            "align_self": null,
            "height": null,
            "min_height": null,
            "padding": null,
            "grid_auto_rows": null,
            "grid_gap": null,
            "max_width": null,
            "order": null,
            "_view_module_version": "1.2.0",
            "grid_template_areas": null,
            "object_position": null,
            "object_fit": null,
            "grid_auto_columns": null,
            "margin": null,
            "display": null,
            "left": null
          }
        },
        "aa4c7ad050ad4f049d2bf62e00a949be": {
          "model_module": "@jupyter-widgets/controls",
          "model_name": "HBoxModel",
          "model_module_version": "1.5.0",
          "state": {
            "_view_name": "HBoxView",
            "_dom_classes": [],
            "_model_name": "HBoxModel",
            "_view_module": "@jupyter-widgets/controls",
            "_model_module_version": "1.5.0",
            "_view_count": null,
            "_view_module_version": "1.5.0",
            "box_style": "",
            "layout": "IPY_MODEL_ecdc86a8bc9c4226846e51f8f2f12591",
            "_model_module": "@jupyter-widgets/controls",
            "children": [
              "IPY_MODEL_3c226863b2924a688c33dccfab27793d",
              "IPY_MODEL_055cdb440895410f904cb4d11040e1af"
            ]
          }
        },
        "ecdc86a8bc9c4226846e51f8f2f12591": {
          "model_module": "@jupyter-widgets/base",
          "model_name": "LayoutModel",
          "model_module_version": "1.2.0",
          "state": {
            "_view_name": "LayoutView",
            "grid_template_rows": null,
            "right": null,
            "justify_content": null,
            "_view_module": "@jupyter-widgets/base",
            "overflow": null,
            "_model_module_version": "1.2.0",
            "_view_count": null,
            "flex_flow": null,
            "width": null,
            "min_width": null,
            "border": null,
            "align_items": null,
            "bottom": null,
            "_model_module": "@jupyter-widgets/base",
            "top": null,
            "grid_column": null,
            "overflow_y": null,
            "overflow_x": null,
            "grid_auto_flow": null,
            "grid_area": null,
            "grid_template_columns": null,
            "flex": null,
            "_model_name": "LayoutModel",
            "justify_items": null,
            "grid_row": null,
            "max_height": null,
            "align_content": null,
            "visibility": null,
            "align_self": null,
            "height": null,
            "min_height": null,
            "padding": null,
            "grid_auto_rows": null,
            "grid_gap": null,
            "max_width": null,
            "order": null,
            "_view_module_version": "1.2.0",
            "grid_template_areas": null,
            "object_position": null,
            "object_fit": null,
            "grid_auto_columns": null,
            "margin": null,
            "display": null,
            "left": null
          }
        },
        "3c226863b2924a688c33dccfab27793d": {
          "model_module": "@jupyter-widgets/controls",
          "model_name": "FloatProgressModel",
          "model_module_version": "1.5.0",
          "state": {
            "_view_name": "ProgressView",
            "style": "IPY_MODEL_15073a128425463894bfd96488b69072",
            "_dom_classes": [],
            "description": "100%",
            "_model_name": "FloatProgressModel",
            "bar_style": "success",
            "max": 1900,
            "_view_module": "@jupyter-widgets/controls",
            "_model_module_version": "1.5.0",
            "value": 1900,
            "_view_count": null,
            "_view_module_version": "1.5.0",
            "orientation": "horizontal",
            "min": 0,
            "description_tooltip": null,
            "_model_module": "@jupyter-widgets/controls",
            "layout": "IPY_MODEL_c37a1e8e4c5c4334ae8e8b6a1633aa74"
          }
        },
        "055cdb440895410f904cb4d11040e1af": {
          "model_module": "@jupyter-widgets/controls",
          "model_name": "HTMLModel",
          "model_module_version": "1.5.0",
          "state": {
            "_view_name": "HTMLView",
            "style": "IPY_MODEL_89ead0da83f149a7ab7f899d39072a83",
            "_dom_classes": [],
            "description": "",
            "_model_name": "HTMLModel",
            "placeholder": "​",
            "_view_module": "@jupyter-widgets/controls",
            "_model_module_version": "1.5.0",
            "value": " 1900/1900 [00:04&lt;00:00, 416.09it/s]",
            "_view_count": null,
            "_view_module_version": "1.5.0",
            "description_tooltip": null,
            "_model_module": "@jupyter-widgets/controls",
            "layout": "IPY_MODEL_9ef5204dad1e4abf8de7bdced73d6dbd"
          }
        },
        "15073a128425463894bfd96488b69072": {
          "model_module": "@jupyter-widgets/controls",
          "model_name": "ProgressStyleModel",
          "model_module_version": "1.5.0",
          "state": {
            "_view_name": "StyleView",
            "_model_name": "ProgressStyleModel",
            "description_width": "initial",
            "_view_module": "@jupyter-widgets/base",
            "_model_module_version": "1.5.0",
            "_view_count": null,
            "_view_module_version": "1.2.0",
            "bar_color": null,
            "_model_module": "@jupyter-widgets/controls"
          }
        },
        "c37a1e8e4c5c4334ae8e8b6a1633aa74": {
          "model_module": "@jupyter-widgets/base",
          "model_name": "LayoutModel",
          "model_module_version": "1.2.0",
          "state": {
            "_view_name": "LayoutView",
            "grid_template_rows": null,
            "right": null,
            "justify_content": null,
            "_view_module": "@jupyter-widgets/base",
            "overflow": null,
            "_model_module_version": "1.2.0",
            "_view_count": null,
            "flex_flow": null,
            "width": null,
            "min_width": null,
            "border": null,
            "align_items": null,
            "bottom": null,
            "_model_module": "@jupyter-widgets/base",
            "top": null,
            "grid_column": null,
            "overflow_y": null,
            "overflow_x": null,
            "grid_auto_flow": null,
            "grid_area": null,
            "grid_template_columns": null,
            "flex": null,
            "_model_name": "LayoutModel",
            "justify_items": null,
            "grid_row": null,
            "max_height": null,
            "align_content": null,
            "visibility": null,
            "align_self": null,
            "height": null,
            "min_height": null,
            "padding": null,
            "grid_auto_rows": null,
            "grid_gap": null,
            "max_width": null,
            "order": null,
            "_view_module_version": "1.2.0",
            "grid_template_areas": null,
            "object_position": null,
            "object_fit": null,
            "grid_auto_columns": null,
            "margin": null,
            "display": null,
            "left": null
          }
        },
        "89ead0da83f149a7ab7f899d39072a83": {
          "model_module": "@jupyter-widgets/controls",
          "model_name": "DescriptionStyleModel",
          "model_module_version": "1.5.0",
          "state": {
            "_view_name": "StyleView",
            "_model_name": "DescriptionStyleModel",
            "description_width": "",
            "_view_module": "@jupyter-widgets/base",
            "_model_module_version": "1.5.0",
            "_view_count": null,
            "_view_module_version": "1.2.0",
            "_model_module": "@jupyter-widgets/controls"
          }
        },
        "9ef5204dad1e4abf8de7bdced73d6dbd": {
          "model_module": "@jupyter-widgets/base",
          "model_name": "LayoutModel",
          "model_module_version": "1.2.0",
          "state": {
            "_view_name": "LayoutView",
            "grid_template_rows": null,
            "right": null,
            "justify_content": null,
            "_view_module": "@jupyter-widgets/base",
            "overflow": null,
            "_model_module_version": "1.2.0",
            "_view_count": null,
            "flex_flow": null,
            "width": null,
            "min_width": null,
            "border": null,
            "align_items": null,
            "bottom": null,
            "_model_module": "@jupyter-widgets/base",
            "top": null,
            "grid_column": null,
            "overflow_y": null,
            "overflow_x": null,
            "grid_auto_flow": null,
            "grid_area": null,
            "grid_template_columns": null,
            "flex": null,
            "_model_name": "LayoutModel",
            "justify_items": null,
            "grid_row": null,
            "max_height": null,
            "align_content": null,
            "visibility": null,
            "align_self": null,
            "height": null,
            "min_height": null,
            "padding": null,
            "grid_auto_rows": null,
            "grid_gap": null,
            "max_width": null,
            "order": null,
            "_view_module_version": "1.2.0",
            "grid_template_areas": null,
            "object_position": null,
            "object_fit": null,
            "grid_auto_columns": null,
            "margin": null,
            "display": null,
            "left": null
          }
        },
        "7904bc6f85f64e068aaa5a658ff00a43": {
          "model_module": "@jupyter-widgets/controls",
          "model_name": "HBoxModel",
          "model_module_version": "1.5.0",
          "state": {
            "_view_name": "HBoxView",
            "_dom_classes": [],
            "_model_name": "HBoxModel",
            "_view_module": "@jupyter-widgets/controls",
            "_model_module_version": "1.5.0",
            "_view_count": null,
            "_view_module_version": "1.5.0",
            "box_style": "",
            "layout": "IPY_MODEL_ddc9ab477b6e431e8ff56486dc0ece2f",
            "_model_module": "@jupyter-widgets/controls",
            "children": [
              "IPY_MODEL_941e2b441b894d4ba7b680e8d7f9c4c1",
              "IPY_MODEL_4c126dde64584a8683a5c279cfe52caa"
            ]
          }
        },
        "ddc9ab477b6e431e8ff56486dc0ece2f": {
          "model_module": "@jupyter-widgets/base",
          "model_name": "LayoutModel",
          "model_module_version": "1.2.0",
          "state": {
            "_view_name": "LayoutView",
            "grid_template_rows": null,
            "right": null,
            "justify_content": null,
            "_view_module": "@jupyter-widgets/base",
            "overflow": null,
            "_model_module_version": "1.2.0",
            "_view_count": null,
            "flex_flow": null,
            "width": null,
            "min_width": null,
            "border": null,
            "align_items": null,
            "bottom": null,
            "_model_module": "@jupyter-widgets/base",
            "top": null,
            "grid_column": null,
            "overflow_y": null,
            "overflow_x": null,
            "grid_auto_flow": null,
            "grid_area": null,
            "grid_template_columns": null,
            "flex": null,
            "_model_name": "LayoutModel",
            "justify_items": null,
            "grid_row": null,
            "max_height": null,
            "align_content": null,
            "visibility": null,
            "align_self": null,
            "height": null,
            "min_height": null,
            "padding": null,
            "grid_auto_rows": null,
            "grid_gap": null,
            "max_width": null,
            "order": null,
            "_view_module_version": "1.2.0",
            "grid_template_areas": null,
            "object_position": null,
            "object_fit": null,
            "grid_auto_columns": null,
            "margin": null,
            "display": null,
            "left": null
          }
        },
        "941e2b441b894d4ba7b680e8d7f9c4c1": {
          "model_module": "@jupyter-widgets/controls",
          "model_name": "FloatProgressModel",
          "model_module_version": "1.5.0",
          "state": {
            "_view_name": "ProgressView",
            "style": "IPY_MODEL_5cc6bcc6ce3146dfba71b9cf0d917208",
            "_dom_classes": [],
            "description": "100%",
            "_model_name": "FloatProgressModel",
            "bar_style": "success",
            "max": 1900,
            "_view_module": "@jupyter-widgets/controls",
            "_model_module_version": "1.5.0",
            "value": 1900,
            "_view_count": null,
            "_view_module_version": "1.5.0",
            "orientation": "horizontal",
            "min": 0,
            "description_tooltip": null,
            "_model_module": "@jupyter-widgets/controls",
            "layout": "IPY_MODEL_6732d52454074e1d85002dfe50ed0a10"
          }
        },
        "4c126dde64584a8683a5c279cfe52caa": {
          "model_module": "@jupyter-widgets/controls",
          "model_name": "HTMLModel",
          "model_module_version": "1.5.0",
          "state": {
            "_view_name": "HTMLView",
            "style": "IPY_MODEL_ea5c726dba354137b726d24f097cc9c5",
            "_dom_classes": [],
            "description": "",
            "_model_name": "HTMLModel",
            "placeholder": "​",
            "_view_module": "@jupyter-widgets/controls",
            "_model_module_version": "1.5.0",
            "value": " 1900/1900 [00:04&lt;00:00, 386.72it/s]",
            "_view_count": null,
            "_view_module_version": "1.5.0",
            "description_tooltip": null,
            "_model_module": "@jupyter-widgets/controls",
            "layout": "IPY_MODEL_ca8ca6cf3e4f42339342f6387c2a5782"
          }
        },
        "5cc6bcc6ce3146dfba71b9cf0d917208": {
          "model_module": "@jupyter-widgets/controls",
          "model_name": "ProgressStyleModel",
          "model_module_version": "1.5.0",
          "state": {
            "_view_name": "StyleView",
            "_model_name": "ProgressStyleModel",
            "description_width": "initial",
            "_view_module": "@jupyter-widgets/base",
            "_model_module_version": "1.5.0",
            "_view_count": null,
            "_view_module_version": "1.2.0",
            "bar_color": null,
            "_model_module": "@jupyter-widgets/controls"
          }
        },
        "6732d52454074e1d85002dfe50ed0a10": {
          "model_module": "@jupyter-widgets/base",
          "model_name": "LayoutModel",
          "model_module_version": "1.2.0",
          "state": {
            "_view_name": "LayoutView",
            "grid_template_rows": null,
            "right": null,
            "justify_content": null,
            "_view_module": "@jupyter-widgets/base",
            "overflow": null,
            "_model_module_version": "1.2.0",
            "_view_count": null,
            "flex_flow": null,
            "width": null,
            "min_width": null,
            "border": null,
            "align_items": null,
            "bottom": null,
            "_model_module": "@jupyter-widgets/base",
            "top": null,
            "grid_column": null,
            "overflow_y": null,
            "overflow_x": null,
            "grid_auto_flow": null,
            "grid_area": null,
            "grid_template_columns": null,
            "flex": null,
            "_model_name": "LayoutModel",
            "justify_items": null,
            "grid_row": null,
            "max_height": null,
            "align_content": null,
            "visibility": null,
            "align_self": null,
            "height": null,
            "min_height": null,
            "padding": null,
            "grid_auto_rows": null,
            "grid_gap": null,
            "max_width": null,
            "order": null,
            "_view_module_version": "1.2.0",
            "grid_template_areas": null,
            "object_position": null,
            "object_fit": null,
            "grid_auto_columns": null,
            "margin": null,
            "display": null,
            "left": null
          }
        },
        "ea5c726dba354137b726d24f097cc9c5": {
          "model_module": "@jupyter-widgets/controls",
          "model_name": "DescriptionStyleModel",
          "model_module_version": "1.5.0",
          "state": {
            "_view_name": "StyleView",
            "_model_name": "DescriptionStyleModel",
            "description_width": "",
            "_view_module": "@jupyter-widgets/base",
            "_model_module_version": "1.5.0",
            "_view_count": null,
            "_view_module_version": "1.2.0",
            "_model_module": "@jupyter-widgets/controls"
          }
        },
        "ca8ca6cf3e4f42339342f6387c2a5782": {
          "model_module": "@jupyter-widgets/base",
          "model_name": "LayoutModel",
          "model_module_version": "1.2.0",
          "state": {
            "_view_name": "LayoutView",
            "grid_template_rows": null,
            "right": null,
            "justify_content": null,
            "_view_module": "@jupyter-widgets/base",
            "overflow": null,
            "_model_module_version": "1.2.0",
            "_view_count": null,
            "flex_flow": null,
            "width": null,
            "min_width": null,
            "border": null,
            "align_items": null,
            "bottom": null,
            "_model_module": "@jupyter-widgets/base",
            "top": null,
            "grid_column": null,
            "overflow_y": null,
            "overflow_x": null,
            "grid_auto_flow": null,
            "grid_area": null,
            "grid_template_columns": null,
            "flex": null,
            "_model_name": "LayoutModel",
            "justify_items": null,
            "grid_row": null,
            "max_height": null,
            "align_content": null,
            "visibility": null,
            "align_self": null,
            "height": null,
            "min_height": null,
            "padding": null,
            "grid_auto_rows": null,
            "grid_gap": null,
            "max_width": null,
            "order": null,
            "_view_module_version": "1.2.0",
            "grid_template_areas": null,
            "object_position": null,
            "object_fit": null,
            "grid_auto_columns": null,
            "margin": null,
            "display": null,
            "left": null
          }
        },
        "6324e0131756479fb2a06e3659f0e6fe": {
          "model_module": "@jupyter-widgets/controls",
          "model_name": "HBoxModel",
          "model_module_version": "1.5.0",
          "state": {
            "_view_name": "HBoxView",
            "_dom_classes": [],
            "_model_name": "HBoxModel",
            "_view_module": "@jupyter-widgets/controls",
            "_model_module_version": "1.5.0",
            "_view_count": null,
            "_view_module_version": "1.5.0",
            "box_style": "",
            "layout": "IPY_MODEL_a56232697eca4b919198a68d2d1b991e",
            "_model_module": "@jupyter-widgets/controls",
            "children": [
              "IPY_MODEL_86364fc6d5cc4935b3bafc544a75700e",
              "IPY_MODEL_89c8788fa3cd49c78949d08e2113504f"
            ]
          }
        },
        "a56232697eca4b919198a68d2d1b991e": {
          "model_module": "@jupyter-widgets/base",
          "model_name": "LayoutModel",
          "model_module_version": "1.2.0",
          "state": {
            "_view_name": "LayoutView",
            "grid_template_rows": null,
            "right": null,
            "justify_content": null,
            "_view_module": "@jupyter-widgets/base",
            "overflow": null,
            "_model_module_version": "1.2.0",
            "_view_count": null,
            "flex_flow": null,
            "width": null,
            "min_width": null,
            "border": null,
            "align_items": null,
            "bottom": null,
            "_model_module": "@jupyter-widgets/base",
            "top": null,
            "grid_column": null,
            "overflow_y": null,
            "overflow_x": null,
            "grid_auto_flow": null,
            "grid_area": null,
            "grid_template_columns": null,
            "flex": null,
            "_model_name": "LayoutModel",
            "justify_items": null,
            "grid_row": null,
            "max_height": null,
            "align_content": null,
            "visibility": null,
            "align_self": null,
            "height": null,
            "min_height": null,
            "padding": null,
            "grid_auto_rows": null,
            "grid_gap": null,
            "max_width": null,
            "order": null,
            "_view_module_version": "1.2.0",
            "grid_template_areas": null,
            "object_position": null,
            "object_fit": null,
            "grid_auto_columns": null,
            "margin": null,
            "display": null,
            "left": null
          }
        },
        "86364fc6d5cc4935b3bafc544a75700e": {
          "model_module": "@jupyter-widgets/controls",
          "model_name": "FloatProgressModel",
          "model_module_version": "1.5.0",
          "state": {
            "_view_name": "ProgressView",
            "style": "IPY_MODEL_b7ba74f6a6714628b936017e0502e50b",
            "_dom_classes": [],
            "description": "100%",
            "_model_name": "FloatProgressModel",
            "bar_style": "success",
            "max": 1900,
            "_view_module": "@jupyter-widgets/controls",
            "_model_module_version": "1.5.0",
            "value": 1900,
            "_view_count": null,
            "_view_module_version": "1.5.0",
            "orientation": "horizontal",
            "min": 0,
            "description_tooltip": null,
            "_model_module": "@jupyter-widgets/controls",
            "layout": "IPY_MODEL_f60f6720e1604026af0727f64a4ca8f6"
          }
        },
        "89c8788fa3cd49c78949d08e2113504f": {
          "model_module": "@jupyter-widgets/controls",
          "model_name": "HTMLModel",
          "model_module_version": "1.5.0",
          "state": {
            "_view_name": "HTMLView",
            "style": "IPY_MODEL_86c0bec271fa4c69889c9c04008a1c07",
            "_dom_classes": [],
            "description": "",
            "_model_name": "HTMLModel",
            "placeholder": "​",
            "_view_module": "@jupyter-widgets/controls",
            "_model_module_version": "1.5.0",
            "value": " 1900/1900 [00:06&lt;00:00, 298.35it/s]",
            "_view_count": null,
            "_view_module_version": "1.5.0",
            "description_tooltip": null,
            "_model_module": "@jupyter-widgets/controls",
            "layout": "IPY_MODEL_72b3a2c097ba4a7ba70c68b9c00e1233"
          }
        },
        "b7ba74f6a6714628b936017e0502e50b": {
          "model_module": "@jupyter-widgets/controls",
          "model_name": "ProgressStyleModel",
          "model_module_version": "1.5.0",
          "state": {
            "_view_name": "StyleView",
            "_model_name": "ProgressStyleModel",
            "description_width": "initial",
            "_view_module": "@jupyter-widgets/base",
            "_model_module_version": "1.5.0",
            "_view_count": null,
            "_view_module_version": "1.2.0",
            "bar_color": null,
            "_model_module": "@jupyter-widgets/controls"
          }
        },
        "f60f6720e1604026af0727f64a4ca8f6": {
          "model_module": "@jupyter-widgets/base",
          "model_name": "LayoutModel",
          "model_module_version": "1.2.0",
          "state": {
            "_view_name": "LayoutView",
            "grid_template_rows": null,
            "right": null,
            "justify_content": null,
            "_view_module": "@jupyter-widgets/base",
            "overflow": null,
            "_model_module_version": "1.2.0",
            "_view_count": null,
            "flex_flow": null,
            "width": null,
            "min_width": null,
            "border": null,
            "align_items": null,
            "bottom": null,
            "_model_module": "@jupyter-widgets/base",
            "top": null,
            "grid_column": null,
            "overflow_y": null,
            "overflow_x": null,
            "grid_auto_flow": null,
            "grid_area": null,
            "grid_template_columns": null,
            "flex": null,
            "_model_name": "LayoutModel",
            "justify_items": null,
            "grid_row": null,
            "max_height": null,
            "align_content": null,
            "visibility": null,
            "align_self": null,
            "height": null,
            "min_height": null,
            "padding": null,
            "grid_auto_rows": null,
            "grid_gap": null,
            "max_width": null,
            "order": null,
            "_view_module_version": "1.2.0",
            "grid_template_areas": null,
            "object_position": null,
            "object_fit": null,
            "grid_auto_columns": null,
            "margin": null,
            "display": null,
            "left": null
          }
        },
        "86c0bec271fa4c69889c9c04008a1c07": {
          "model_module": "@jupyter-widgets/controls",
          "model_name": "DescriptionStyleModel",
          "model_module_version": "1.5.0",
          "state": {
            "_view_name": "StyleView",
            "_model_name": "DescriptionStyleModel",
            "description_width": "",
            "_view_module": "@jupyter-widgets/base",
            "_model_module_version": "1.5.0",
            "_view_count": null,
            "_view_module_version": "1.2.0",
            "_model_module": "@jupyter-widgets/controls"
          }
        },
        "72b3a2c097ba4a7ba70c68b9c00e1233": {
          "model_module": "@jupyter-widgets/base",
          "model_name": "LayoutModel",
          "model_module_version": "1.2.0",
          "state": {
            "_view_name": "LayoutView",
            "grid_template_rows": null,
            "right": null,
            "justify_content": null,
            "_view_module": "@jupyter-widgets/base",
            "overflow": null,
            "_model_module_version": "1.2.0",
            "_view_count": null,
            "flex_flow": null,
            "width": null,
            "min_width": null,
            "border": null,
            "align_items": null,
            "bottom": null,
            "_model_module": "@jupyter-widgets/base",
            "top": null,
            "grid_column": null,
            "overflow_y": null,
            "overflow_x": null,
            "grid_auto_flow": null,
            "grid_area": null,
            "grid_template_columns": null,
            "flex": null,
            "_model_name": "LayoutModel",
            "justify_items": null,
            "grid_row": null,
            "max_height": null,
            "align_content": null,
            "visibility": null,
            "align_self": null,
            "height": null,
            "min_height": null,
            "padding": null,
            "grid_auto_rows": null,
            "grid_gap": null,
            "max_width": null,
            "order": null,
            "_view_module_version": "1.2.0",
            "grid_template_areas": null,
            "object_position": null,
            "object_fit": null,
            "grid_auto_columns": null,
            "margin": null,
            "display": null,
            "left": null
          }
        },
        "e4d13ffa6d474236926e52d22c898b69": {
          "model_module": "@jupyter-widgets/controls",
          "model_name": "HBoxModel",
          "model_module_version": "1.5.0",
          "state": {
            "_view_name": "HBoxView",
            "_dom_classes": [],
            "_model_name": "HBoxModel",
            "_view_module": "@jupyter-widgets/controls",
            "_model_module_version": "1.5.0",
            "_view_count": null,
            "_view_module_version": "1.5.0",
            "box_style": "",
            "layout": "IPY_MODEL_531fb8f338d642629ade1defdd90bd8e",
            "_model_module": "@jupyter-widgets/controls",
            "children": [
              "IPY_MODEL_d1c41d2cdaa549708a21a248a624e16b",
              "IPY_MODEL_372b9ccbe5f045babada4b5966b383fc"
            ]
          }
        },
        "531fb8f338d642629ade1defdd90bd8e": {
          "model_module": "@jupyter-widgets/base",
          "model_name": "LayoutModel",
          "model_module_version": "1.2.0",
          "state": {
            "_view_name": "LayoutView",
            "grid_template_rows": null,
            "right": null,
            "justify_content": null,
            "_view_module": "@jupyter-widgets/base",
            "overflow": null,
            "_model_module_version": "1.2.0",
            "_view_count": null,
            "flex_flow": null,
            "width": null,
            "min_width": null,
            "border": null,
            "align_items": null,
            "bottom": null,
            "_model_module": "@jupyter-widgets/base",
            "top": null,
            "grid_column": null,
            "overflow_y": null,
            "overflow_x": null,
            "grid_auto_flow": null,
            "grid_area": null,
            "grid_template_columns": null,
            "flex": null,
            "_model_name": "LayoutModel",
            "justify_items": null,
            "grid_row": null,
            "max_height": null,
            "align_content": null,
            "visibility": null,
            "align_self": null,
            "height": null,
            "min_height": null,
            "padding": null,
            "grid_auto_rows": null,
            "grid_gap": null,
            "max_width": null,
            "order": null,
            "_view_module_version": "1.2.0",
            "grid_template_areas": null,
            "object_position": null,
            "object_fit": null,
            "grid_auto_columns": null,
            "margin": null,
            "display": null,
            "left": null
          }
        },
        "d1c41d2cdaa549708a21a248a624e16b": {
          "model_module": "@jupyter-widgets/controls",
          "model_name": "FloatProgressModel",
          "model_module_version": "1.5.0",
          "state": {
            "_view_name": "ProgressView",
            "style": "IPY_MODEL_589a8bc5d66c4826a0aa39deb94c1117",
            "_dom_classes": [],
            "description": "100%",
            "_model_name": "FloatProgressModel",
            "bar_style": "success",
            "max": 92000,
            "_view_module": "@jupyter-widgets/controls",
            "_model_module_version": "1.5.0",
            "value": 92000,
            "_view_count": null,
            "_view_module_version": "1.5.0",
            "orientation": "horizontal",
            "min": 0,
            "description_tooltip": null,
            "_model_module": "@jupyter-widgets/controls",
            "layout": "IPY_MODEL_1b860ff780924eaabd5a397d0ad96e8e"
          }
        },
        "372b9ccbe5f045babada4b5966b383fc": {
          "model_module": "@jupyter-widgets/controls",
          "model_name": "HTMLModel",
          "model_module_version": "1.5.0",
          "state": {
            "_view_name": "HTMLView",
            "style": "IPY_MODEL_44521eb1f5bb44c785b260ec08c97c1b",
            "_dom_classes": [],
            "description": "",
            "_model_name": "HTMLModel",
            "placeholder": "​",
            "_view_module": "@jupyter-widgets/controls",
            "_model_module_version": "1.5.0",
            "value": " 92000/92000 [05:30&lt;00:00, 278.24it/s]",
            "_view_count": null,
            "_view_module_version": "1.5.0",
            "description_tooltip": null,
            "_model_module": "@jupyter-widgets/controls",
            "layout": "IPY_MODEL_aa66df43070e44f8860a6dfd46608232"
          }
        },
        "589a8bc5d66c4826a0aa39deb94c1117": {
          "model_module": "@jupyter-widgets/controls",
          "model_name": "ProgressStyleModel",
          "model_module_version": "1.5.0",
          "state": {
            "_view_name": "StyleView",
            "_model_name": "ProgressStyleModel",
            "description_width": "initial",
            "_view_module": "@jupyter-widgets/base",
            "_model_module_version": "1.5.0",
            "_view_count": null,
            "_view_module_version": "1.2.0",
            "bar_color": null,
            "_model_module": "@jupyter-widgets/controls"
          }
        },
        "1b860ff780924eaabd5a397d0ad96e8e": {
          "model_module": "@jupyter-widgets/base",
          "model_name": "LayoutModel",
          "model_module_version": "1.2.0",
          "state": {
            "_view_name": "LayoutView",
            "grid_template_rows": null,
            "right": null,
            "justify_content": null,
            "_view_module": "@jupyter-widgets/base",
            "overflow": null,
            "_model_module_version": "1.2.0",
            "_view_count": null,
            "flex_flow": null,
            "width": null,
            "min_width": null,
            "border": null,
            "align_items": null,
            "bottom": null,
            "_model_module": "@jupyter-widgets/base",
            "top": null,
            "grid_column": null,
            "overflow_y": null,
            "overflow_x": null,
            "grid_auto_flow": null,
            "grid_area": null,
            "grid_template_columns": null,
            "flex": null,
            "_model_name": "LayoutModel",
            "justify_items": null,
            "grid_row": null,
            "max_height": null,
            "align_content": null,
            "visibility": null,
            "align_self": null,
            "height": null,
            "min_height": null,
            "padding": null,
            "grid_auto_rows": null,
            "grid_gap": null,
            "max_width": null,
            "order": null,
            "_view_module_version": "1.2.0",
            "grid_template_areas": null,
            "object_position": null,
            "object_fit": null,
            "grid_auto_columns": null,
            "margin": null,
            "display": null,
            "left": null
          }
        },
        "44521eb1f5bb44c785b260ec08c97c1b": {
          "model_module": "@jupyter-widgets/controls",
          "model_name": "DescriptionStyleModel",
          "model_module_version": "1.5.0",
          "state": {
            "_view_name": "StyleView",
            "_model_name": "DescriptionStyleModel",
            "description_width": "",
            "_view_module": "@jupyter-widgets/base",
            "_model_module_version": "1.5.0",
            "_view_count": null,
            "_view_module_version": "1.2.0",
            "_model_module": "@jupyter-widgets/controls"
          }
        },
        "aa66df43070e44f8860a6dfd46608232": {
          "model_module": "@jupyter-widgets/base",
          "model_name": "LayoutModel",
          "model_module_version": "1.2.0",
          "state": {
            "_view_name": "LayoutView",
            "grid_template_rows": null,
            "right": null,
            "justify_content": null,
            "_view_module": "@jupyter-widgets/base",
            "overflow": null,
            "_model_module_version": "1.2.0",
            "_view_count": null,
            "flex_flow": null,
            "width": null,
            "min_width": null,
            "border": null,
            "align_items": null,
            "bottom": null,
            "_model_module": "@jupyter-widgets/base",
            "top": null,
            "grid_column": null,
            "overflow_y": null,
            "overflow_x": null,
            "grid_auto_flow": null,
            "grid_area": null,
            "grid_template_columns": null,
            "flex": null,
            "_model_name": "LayoutModel",
            "justify_items": null,
            "grid_row": null,
            "max_height": null,
            "align_content": null,
            "visibility": null,
            "align_self": null,
            "height": null,
            "min_height": null,
            "padding": null,
            "grid_auto_rows": null,
            "grid_gap": null,
            "max_width": null,
            "order": null,
            "_view_module_version": "1.2.0",
            "grid_template_areas": null,
            "object_position": null,
            "object_fit": null,
            "grid_auto_columns": null,
            "margin": null,
            "display": null,
            "left": null
          }
        }
      }
    },
    "accelerator": "GPU"
  },
  "cells": [
    {
      "cell_type": "markdown",
      "metadata": {
        "id": "VmLaAvOmtmiA"
      },
      "source": [
        "Premier rendu du projet du cour `advanced topics in deep learning`\n",
        "\n",
        "Equipe :\n",
        "*   LARROYE Rémy\n",
        "*   MESSAN Adjo-Sika Aurore  \n",
        "*   MONIN Donélia  \n",
        "*   ROSSEL Jacques\n",
        "\n"
      ]
    },
    {
      "cell_type": "code",
      "metadata": {
        "id": "IoFdya9NFN0v",
        "colab": {
          "base_uri": "https://localhost:8080/"
        },
        "outputId": "5243bac3-deae-4cbe-ee40-e97c26452a07"
      },
      "source": [
        "from os import path\n",
        "\n",
        "if not path.exists(\"dataset_44_spambase.csv\"):\n",
        "  !wget https://www.openml.org/data/get_csv/44/dataset_44_spambase.csv"
      ],
      "execution_count": null,
      "outputs": [
        {
          "output_type": "stream",
          "text": [
            "--2021-02-24 19:06:31--  https://www.openml.org/data/get_csv/44/dataset_44_spambase.csv\n",
            "Resolving www.openml.org (www.openml.org)... 131.155.11.11\n",
            "Connecting to www.openml.org (www.openml.org)|131.155.11.11|:443... connected.\n",
            "HTTP request sent, awaiting response... 200 OK\n",
            "Length: unspecified [text/plain]\n",
            "Saving to: ‘dataset_44_spambase.csv’\n",
            "\n",
            "dataset_44_spambase     [  <=>               ] 682.99K  1.58MB/s    in 0.4s    \n",
            "\n",
            "2021-02-24 19:06:31 (1.58 MB/s) - ‘dataset_44_spambase.csv’ saved [699384]\n",
            "\n"
          ],
          "name": "stdout"
        }
      ]
    },
    {
      "cell_type": "code",
      "metadata": {
        "colab": {
          "base_uri": "https://localhost:8080/"
        },
        "id": "8p0PQaJNFOLp",
        "outputId": "a5879870-b710-4e8c-c184-ce5cea89a684"
      },
      "source": [
        "import torch\n",
        "import math\n",
        "import pandas as pd\n",
        "from sklearn.model_selection import train_test_split\n",
        "\n",
        "\n",
        "dataframe = pd.read_csv('dataset_44_spambase.csv')#load data from local\n",
        "\n",
        "dataframe=((dataframe-dataframe.min())/(dataframe.max()-dataframe.min()))# normalization of the data\n",
        "\n",
        "x_df = dataframe.iloc[:,:57]#split data beetwenn input \n",
        "y_df = dataframe.iloc[:,57:]#and labels\n",
        "print(\"Pourcentage de spam dans le dataset : \", y_df[\"class\"].sum()/len(y_df)*100)\n",
        "\n",
        "#separation du dataset en Train et Test 80 / 20\n",
        "\n",
        "x_train_df, x_test_df, y_train_df, y_test_df = train_test_split(x_df, y_df, test_size=0.20)\n",
        "\n",
        "print(\"Pourcentage de spam dans le test : \", y_test_df[\"class\"].sum()/len(y_test_df)*100)\n",
        "\n",
        "#separation du dataset en Train et Validation 80 / 20\n",
        "x_train_df, x_valid_df, y_train_df, y_valid_df = train_test_split(x_train_df, y_train_df, test_size=0.20)\n",
        "\n",
        "print(\"Pourcentage de spam dans le train : \", y_train_df[\"class\"].sum()/len(y_train_df)*100)\n",
        "\n",
        "print(\"Pourcentage de spam dans le validation : \", y_valid_df[\"class\"].sum()/len(y_valid_df)*100)"
      ],
      "execution_count": null,
      "outputs": [
        {
          "output_type": "stream",
          "text": [
            "Pourcentage de spam dans le dataset :  39.404477287546186\n",
            "Pourcentage de spam dans le test :  40.390879478827365\n",
            "Pourcentage de spam dans le train :  39.639945652173914\n",
            "Pourcentage de spam dans le validation :  37.22826086956522\n"
          ],
          "name": "stdout"
        }
      ]
    },
    {
      "cell_type": "code",
      "metadata": {
        "id": "GGD8e3fYs_B2"
      },
      "source": [
        "import torch\n",
        "\n",
        "class Dataset(torch.utils.data.Dataset):\n",
        "  'Characterizes a dataset for PyTorch'\n",
        "  def __init__(self, list_IDs, labels):\n",
        "        'Initialization'\n",
        "        self.labels = labels\n",
        "        self.list_IDs = list_IDs\n",
        "\n",
        "  def __len__(self):\n",
        "        'Denotes the total number of samples'\n",
        "        return len(self.list_IDs)\n",
        "\n",
        "  def __getitem__(self, index):\n",
        "\n",
        "        # Load data and get label\n",
        "        X = self.list_IDs[index]\n",
        "        y = self.labels[index]\n",
        "\n",
        "        return X, int(y[0])"
      ],
      "execution_count": null,
      "outputs": []
    },
    {
      "cell_type": "code",
      "metadata": {
        "id": "etqJ-UoiJBJb"
      },
      "source": [
        "import matplotlib.pyplot as plt\n",
        "from tqdm.notebook import tqdm\n",
        "\n",
        "def train(net, N_EPOCHS, criterion, optimizer):\n",
        "  device = torch.device(\"cuda:0\" if torch.cuda.is_available() else \"cpu\")\n",
        "  # Assuming that we are on a CUDA machine, this should print a CUDA device:\n",
        "  print(device)\n",
        "  \n",
        "  net = net.float()\n",
        "  net = net.to(device)\n",
        "  epoch_loss, epoch_acc, epoch_val_loss, epoch_val_acc = [], [], [], []\n",
        "\n",
        "  pbar = tqdm(total=(N_EPOCHS* math.ceil(len(train_set)/train_dl.batch_size)) + N_EPOCHS* math.ceil(len(valid_set)/valid_dl.batch_size))\n",
        "\n",
        "  for epoch in range(N_EPOCHS):  # loop over the dataset multiple times\n",
        "      running_loss = 0.0\n",
        "      running_accuracy = 0.0\n",
        "      for i, data in enumerate(train_dl, 0):\n",
        "          pbar.update(1)\n",
        "          # get the inputs; data is a list of [inputs, labels]\n",
        "          inputs, labels = data[0].to(device), data[1].to(device)\n",
        "          # zero the parameter gradients\n",
        "          optimizer.zero_grad()\n",
        "\n",
        "          # forward + backward + optimize\n",
        "          outputs = net(inputs.float())\n",
        "          loss = criterion(outputs, labels)\n",
        "          loss.backward()\n",
        "          optimizer.step()\n",
        "\n",
        "          running_loss += loss.item()\n",
        "          running_accuracy += (outputs.max(1)[1] == labels).sum().item()\n",
        "\n",
        "      epoch_loss.append(running_loss/len(train_set))\n",
        "      epoch_acc.append(running_accuracy/len(train_set))\n",
        "\n",
        "      net.eval()\n",
        "\n",
        "      running_val_loss = 0.0\n",
        "      running_val_accuracy = 0.0\n",
        "      for i, data in enumerate(valid_dl, 0):\n",
        "          pbar.update(1)\n",
        "          # get the inputs; data is a list of [inputs, labels]\n",
        "          inputs, labels = data[0].to(device), data[1].to(device)\n",
        "\n",
        "          # zero the parameter gradients\n",
        "          optimizer.zero_grad()\n",
        "\n",
        "          # forward + backward + optimize\n",
        "          outputs = net(inputs.float())\n",
        "          loss = criterion(outputs, labels)\n",
        "\n",
        "          running_val_loss += loss.item()\n",
        "          running_val_accuracy += (outputs.max(1)[1] == labels).sum().item()\n",
        "\n",
        "      epoch_val_loss.append(running_val_loss/len(valid_set))\n",
        "      epoch_val_acc.append(running_val_accuracy/len(valid_set))\n",
        "  pbar.close() \n",
        "  plt.figure(figsize=(15,10))\n",
        "\n",
        "  plt.subplot(2, 2, 1)\n",
        "  plt.title(\"Accurary\")\n",
        "  plt.plot(epoch_acc, label=\"Training\")\n",
        "  plt.plot(epoch_val_acc, label=\"Validation\")\n",
        "  plt.legend()\n",
        "\n",
        "  plt.subplot(2, 2, 2)\n",
        "  plt.title(\"Loss\")\n",
        "  plt.plot(epoch_loss, label=\"Training\")\n",
        "  plt.plot(epoch_val_loss, label=\"Validation\")\n",
        "  plt.legend()\n",
        "\n",
        "  plt.show()\n",
        "\n",
        "def test (net, criterion, optimizer):\n",
        "  device = torch.device(\"cuda:0\" if torch.cuda.is_available() else \"cpu\")\n",
        "  # Assuming that we are on a CUDA machine, this should print a CUDA device:\n",
        "  net = net.to(device)\n",
        "  net.eval()\n",
        "  running_test_accuracy = 0.0\n",
        "  for i, data in enumerate(test_dl, 0):\n",
        "      # get the inputs; data is a list of [inputs, labels]\n",
        "      inputs, labels = data[0].to(device), data[1].to(device)\n",
        "\n",
        "      # zero the parameter gradients\n",
        "      optimizer.zero_grad()\n",
        "\n",
        "      # forward + backward + optimize\n",
        "      outputs = net(inputs.float())\n",
        "      loss = criterion(outputs, labels)\n",
        "      running_test_accuracy += (outputs.max(1)[1] == labels).sum().item()\n",
        "  print(\"Accuracy on test dataset : \", running_test_accuracy/len(test_set))"
      ],
      "execution_count": null,
      "outputs": []
    },
    {
      "cell_type": "code",
      "metadata": {
        "id": "rjcmxwUXslXk"
      },
      "source": [
        "train_set = Dataset(torch.tensor(x_train_df.values), y_train_df.values)\n",
        "train_dl = torch.utils.data.DataLoader(train_set, batch_size=100, shuffle=True)\n",
        "\n",
        "valid_set = Dataset(torch.tensor(x_valid_df.values), y_valid_df.values)\n",
        "valid_dl = torch.utils.data.DataLoader(valid_set, batch_size=100, shuffle=True)\n",
        "\n",
        "test_set = Dataset(torch.tensor(x_test_df.values), y_test_df.values)\n",
        "test_dl = torch.utils.data.DataLoader(test_set, batch_size=1, shuffle=True)"
      ],
      "execution_count": null,
      "outputs": []
    },
    {
      "cell_type": "code",
      "metadata": {
        "id": "H92p4svnFslS"
      },
      "source": [
        "class reseauDense(torch.nn.Module):\n",
        "\n",
        "  def __init__(self):\n",
        "    super(reseauDense, self).__init__()\n",
        "    \n",
        "    self.linear1 = torch.nn.Linear(57, 1000)\n",
        "    self.linear2 = torch.nn.Linear(1000, 250)\n",
        "    self.linear3 = torch.nn.Linear(250, 50)\n",
        "\n",
        "    self.droput = torch.nn.Dropout(0.2)\n",
        "\n",
        "    self.relu = torch.nn.ReLU()\n",
        "\n",
        "    self.softmax = torch.nn.LogSoftmax(dim=1)\n",
        "\n",
        "  def forward(self, x): \n",
        "    x = self.linear1(x)\n",
        "\n",
        "    x = self.droput(x)\n",
        "    x = self.relu(x)\n",
        "\n",
        "    x = self.linear2(x)\n",
        "    x = self.droput(x)\n",
        "    x = self.relu(x)\n",
        "    \n",
        "    \n",
        "    x = self.linear3(x)\n",
        "    y = self.softmax(x)\n",
        "\n",
        "    return y"
      ],
      "execution_count": null,
      "outputs": []
    },
    {
      "cell_type": "code",
      "metadata": {
        "colab": {
          "base_uri": "https://localhost:8080/",
          "height": 398,
          "referenced_widgets": [
            "613ad05d380d40e2b88a59051d86a52d",
            "feb87aea447747f09d46e24d945ca568",
            "12dddfb0cd5f44d88b977de5b6aeee93",
            "d4420dac3f3b4231b2951e0e1d4bf58f",
            "e7ebea4f870e48b3864008a8d88153dd",
            "91f38e6bad8145ddbb76dea5653815ac",
            "3c362af8df334a2bb923be695af892fb",
            "f8c265fad45e402297d3e22d0dc175bd"
          ]
        },
        "id": "5SI8J9gjHfJC",
        "outputId": "ca9ac856-8af3-4c2e-bf48-434057b0e77f"
      },
      "source": [
        "net = reseauDense()\n",
        "criterion = torch.nn.NLLLoss()\n",
        "optimizer = torch.optim.Adam(net.parameters(), lr=0.0001)\n",
        "train(net, 50, criterion, optimizer)\n",
        "test(net, criterion, optimizer)"
      ],
      "execution_count": null,
      "outputs": [
        {
          "output_type": "stream",
          "text": [
            "cuda:0\n"
          ],
          "name": "stdout"
        },
        {
          "output_type": "display_data",
          "data": {
            "application/vnd.jupyter.widget-view+json": {
              "model_id": "613ad05d380d40e2b88a59051d86a52d",
              "version_minor": 0,
              "version_major": 2
            },
            "text/plain": [
              "HBox(children=(FloatProgress(value=0.0, max=1900.0), HTML(value='')))"
            ]
          },
          "metadata": {
            "tags": []
          }
        },
        {
          "output_type": "stream",
          "text": [
            "\n"
          ],
          "name": "stdout"
        },
        {
          "output_type": "display_data",
          "data": {
            "image/png": "[encoded data removed]",
            "text/plain": [
              "<Figure size 1080x720 with 2 Axes>"
            ]
          },
          "metadata": {
            "tags": [],
            "needs_background": "light"
          }
        },
        {
          "output_type": "stream",
          "text": [
            "Accuracy on test dataset :  0.9283387622149837\n"
          ],
          "name": "stdout"
        }
      ]
    },
    {
      "cell_type": "code",
      "metadata": {
        "id": "4jH1KYnuHcmZ",
        "colab": {
          "base_uri": "https://localhost:8080/",
          "height": 398,
          "referenced_widgets": [
            "aa4c7ad050ad4f049d2bf62e00a949be",
            "ecdc86a8bc9c4226846e51f8f2f12591",
            "3c226863b2924a688c33dccfab27793d",
            "055cdb440895410f904cb4d11040e1af",
            "15073a128425463894bfd96488b69072",
            "c37a1e8e4c5c4334ae8e8b6a1633aa74",
            "89ead0da83f149a7ab7f899d39072a83",
            "9ef5204dad1e4abf8de7bdced73d6dbd"
          ]
        },
        "outputId": "d53d7efa-4501-4b98-d4ee-7f1e3f7a1eba"
      },
      "source": [
        "net = reseauDense()\n",
        "criterion = torch.nn.NLLLoss()\n",
        "optimizer = torch.optim.Adam(net.parameters(), lr=0.001)\n",
        "train(net, 50, criterion, optimizer)\n",
        "test(net, criterion, optimizer)"
      ],
      "execution_count": null,
      "outputs": [
        {
          "output_type": "stream",
          "text": [
            "cuda:0\n"
          ],
          "name": "stdout"
        },
        {
          "output_type": "display_data",
          "data": {
            "application/vnd.jupyter.widget-view+json": {
              "model_id": "aa4c7ad050ad4f049d2bf62e00a949be",
              "version_minor": 0,
              "version_major": 2
            },
            "text/plain": [
              "HBox(children=(FloatProgress(value=0.0, max=1900.0), HTML(value='')))"
            ]
          },
          "metadata": {
            "tags": []
          }
        },
        {
          "output_type": "stream",
          "text": [
            "\n"
          ],
          "name": "stdout"
        },
        {
          "output_type": "display_data",
          "data": {
            "image/png": "[encoded data removed]",
            "text/plain": [
              "<Figure size 1080x720 with 2 Axes>"
            ]
          },
          "metadata": {
            "tags": [],
            "needs_background": "light"
          }
        },
        {
          "output_type": "stream",
          "text": [
            "Accuracy on test dataset :  0.9478827361563518\n"
          ],
          "name": "stdout"
        }
      ]
    },
    {
      "cell_type": "code",
      "metadata": {
        "id": "wqUdjeKZHc8M",
        "colab": {
          "base_uri": "https://localhost:8080/",
          "height": 396,
          "referenced_widgets": [
            "7904bc6f85f64e068aaa5a658ff00a43",
            "ddc9ab477b6e431e8ff56486dc0ece2f",
            "941e2b441b894d4ba7b680e8d7f9c4c1",
            "4c126dde64584a8683a5c279cfe52caa",
            "5cc6bcc6ce3146dfba71b9cf0d917208",
            "6732d52454074e1d85002dfe50ed0a10",
            "ea5c726dba354137b726d24f097cc9c5",
            "ca8ca6cf3e4f42339342f6387c2a5782"
          ]
        },
        "outputId": "d5d1d364-acdb-43e5-b94f-eb2a9d33ce79"
      },
      "source": [
        "net = reseauDense()\n",
        "criterion = torch.nn.NLLLoss()\n",
        "optimizer = torch.optim.Adam(net.parameters(), lr=0.15)\n",
        "train(net, 50, criterion, optimizer)\n",
        "test(net, criterion, optimizer)"
      ],
      "execution_count": null,
      "outputs": [
        {
          "output_type": "stream",
          "text": [
            "cuda:0\n"
          ],
          "name": "stdout"
        },
        {
          "output_type": "display_data",
          "data": {
            "application/vnd.jupyter.widget-view+json": {
              "model_id": "7904bc6f85f64e068aaa5a658ff00a43",
              "version_minor": 0,
              "version_major": 2
            },
            "text/plain": [
              "HBox(children=(FloatProgress(value=0.0, max=1900.0), HTML(value='')))"
            ]
          },
          "metadata": {
            "tags": []
          }
        },
        {
          "output_type": "stream",
          "text": [
            "\n"
          ],
          "name": "stdout"
        },
        {
          "output_type": "display_data",
          "data": {
            "image/png": "[encoded data removed]",
            "text/plain": [
              "<Figure size 1080x720 with 2 Axes>"
            ]
          },
          "metadata": {
            "tags": [],
            "needs_background": "light"
          }
        },
        {
          "output_type": "stream",
          "text": [
            "Accuracy on test dataset :  0.9326818675352877\n"
          ],
          "name": "stdout"
        }
      ]
    },
    {
      "cell_type": "code",
      "metadata": {
        "colab": {
          "base_uri": "https://localhost:8080/",
          "height": 398,
          "referenced_widgets": [
            "6324e0131756479fb2a06e3659f0e6fe",
            "a56232697eca4b919198a68d2d1b991e",
            "86364fc6d5cc4935b3bafc544a75700e",
            "89c8788fa3cd49c78949d08e2113504f",
            "b7ba74f6a6714628b936017e0502e50b",
            "f60f6720e1604026af0727f64a4ca8f6",
            "86c0bec271fa4c69889c9c04008a1c07",
            "72b3a2c097ba4a7ba70c68b9c00e1233"
          ]
        },
        "id": "pmXjBnJHp6XP",
        "outputId": "9e82ded7-af05-4e1b-afac-f8e45365b324"
      },
      "source": [
        "class MultiLayer(torch.nn.Module):\n",
        "\n",
        "  def __init__(self):\n",
        "    super(MultiLayer, self).__init__()\n",
        "    \n",
        "    self.linear1 = torch.nn.Linear(57,1024)\n",
        "    self.linear2 = torch.nn.Linear(1024,256)\n",
        "    self.linear3 = torch.nn.Linear(256,128)\n",
        "    self.linear4 = torch.nn.Linear(128,64)\n",
        "    self.linear5 = torch.nn.Linear(64,32)\n",
        "\n",
        "\n",
        "    self.droput = torch.nn.Dropout(0.2)\n",
        "\n",
        "    self.relu = torch.nn.ReLU()\n",
        "\n",
        "    self.softmax = torch.nn.LogSoftmax(dim=1)\n",
        "\n",
        "  def forward(self, x): \n",
        "    x = self.linear1(x)\n",
        "\n",
        "    x = self.droput(x)\n",
        "    x = self.relu(x)\n",
        "\n",
        "    x = self.linear2(x)\n",
        "    x = self.droput(x)\n",
        "    x = self.relu(x)\n",
        "    \n",
        "    x = self.linear3(x)\n",
        "    x = self.droput(x)\n",
        "    x = self.relu(x)\n",
        "\n",
        "    x = self.linear4(x)\n",
        "    x = self.droput(x)\n",
        "    x = self.relu(x)\n",
        "\n",
        "    x = self.linear5(x)\n",
        "    y = self.softmax(x)\n",
        "\n",
        "    return y\n",
        "\n",
        "\n",
        "multiLayer = MultiLayer()\n",
        "criterion = torch.nn.NLLLoss()\n",
        "optimizer = torch.optim.Adam(multiLayer.parameters(), lr=0.0001)\n",
        "train(multiLayer, 50, criterion, optimizer)\n",
        "test(multiLayer, criterion, optimizer)"
      ],
      "execution_count": null,
      "outputs": [
        {
          "output_type": "stream",
          "text": [
            "cuda:0\n"
          ],
          "name": "stdout"
        },
        {
          "output_type": "display_data",
          "data": {
            "application/vnd.jupyter.widget-view+json": {
              "model_id": "6324e0131756479fb2a06e3659f0e6fe",
              "version_minor": 0,
              "version_major": 2
            },
            "text/plain": [
              "HBox(children=(FloatProgress(value=0.0, max=1900.0), HTML(value='')))"
            ]
          },
          "metadata": {
            "tags": []
          }
        },
        {
          "output_type": "stream",
          "text": [
            "\n"
          ],
          "name": "stdout"
        },
        {
          "output_type": "display_data",
          "data": {
            "image/png": "[encoded data removed]",
            "text/plain": [
              "<Figure size 1080x720 with 2 Axes>"
            ]
          },
          "metadata": {
            "tags": [],
            "needs_background": "light"
          }
        },
        {
          "output_type": "stream",
          "text": [
            "Accuracy on test dataset :  0.9305103148751357\n"
          ],
          "name": "stdout"
        }
      ]
    },
    {
      "cell_type": "code",
      "metadata": {
        "id": "LZwi9xK3HT_r",
        "colab": {
          "base_uri": "https://localhost:8080/",
          "height": 394,
          "referenced_widgets": [
            "e4d13ffa6d474236926e52d22c898b69",
            "531fb8f338d642629ade1defdd90bd8e",
            "d1c41d2cdaa549708a21a248a624e16b",
            "372b9ccbe5f045babada4b5966b383fc",
            "589a8bc5d66c4826a0aa39deb94c1117",
            "1b860ff780924eaabd5a397d0ad96e8e",
            "44521eb1f5bb44c785b260ec08c97c1b",
            "aa66df43070e44f8860a6dfd46608232"
          ]
        },
        "outputId": "6d55fb96-4c69-4ce3-a5ac-7402e2237b48"
      },
      "source": [
        "import torch.nn.functional as F\n",
        "\n",
        "train_set = Dataset(torch.tensor(x_train_df.values).unsqueeze_(-1), y_train_df.values)\n",
        "train_dl = torch.utils.data.DataLoader(train_set, batch_size=1, shuffle=True)\n",
        "\n",
        "valid_set = Dataset(torch.tensor(x_valid_df.values).unsqueeze_(-1), y_valid_df.values)\n",
        "valid_dl = torch.utils.data.DataLoader(valid_set, batch_size=1, shuffle=True)\n",
        "\n",
        "test_set = Dataset(torch.tensor(x_test_df.values).unsqueeze_(-1), y_test_df.values)\n",
        "test_dl = torch.utils.data.DataLoader(test_set, batch_size=1, shuffle=True)\n",
        "class reseauCNN(torch.nn.Module):\n",
        "\n",
        "  def __init__(self):\n",
        "    super(reseauCNN, self).__init__()\n",
        "    self.conv1 = torch.nn.Conv1d(in_channels = 1, out_channels = 57, kernel_size=1, padding=2)\n",
        "    self.conv2 = torch.nn.Conv1d(in_channels = 57, out_channels = 100, kernel_size=5, padding=2)\n",
        "    self.conv3 = torch.nn.Conv1d(in_channels = 100, out_channels = 200, kernel_size=20, padding=11)\n",
        "\n",
        "    self.pool = torch.nn.MaxPool1d(2)\n",
        "\n",
        "    self.relu = torch.nn.ReLU()\n",
        "\n",
        "    self.out_layer = torch.nn.Linear(22800, 50)\n",
        "\n",
        "    self.softmax = torch.nn.LogSoftmax(dim=1)\n",
        "\n",
        "  def forward(self, x):\n",
        "    x = x.transpose(0, 1).contiguous()\n",
        "    x = self.pool(F.relu(self.conv1(x)))\n",
        "    x = self.pool(F.relu(self.conv2(x)))\n",
        "    x = self.pool(F.relu(self.conv3(x)))\n",
        "    x = x.view(-1, 22800)\n",
        "    x = self.out_layer(x)\n",
        "    y = self.softmax(x)\n",
        "\n",
        "    return y\n",
        "  \n",
        "net = reseauCNN()\n",
        "criterion = torch.nn.NLLLoss()\n",
        "optimizer = torch.optim.Adam(net.parameters(), lr=0.001)\n",
        "train(net, 25, criterion, optimizer)\n",
        "test(net, criterion, optimizer)"
      ],
      "execution_count": null,
      "outputs": [
        {
          "output_type": "stream",
          "text": [
            "cuda:0\n"
          ],
          "name": "stdout"
        },
        {
          "output_type": "display_data",
          "data": {
            "application/vnd.jupyter.widget-view+json": {
              "model_id": "e4d13ffa6d474236926e52d22c898b69",
              "version_major": 2,
              "version_minor": 0
            },
            "text/plain": [
              "HBox(children=(FloatProgress(value=0.0, max=92000.0), HTML(value='')))"
            ]
          },
          "metadata": {
            "tags": []
          }
        },
        {
          "output_type": "stream",
          "text": [
            "\n"
          ],
          "name": "stdout"
        },
        {
          "output_type": "display_data",
          "data": {
            "image/png": "[encoded data removed]",
            "text/plain": [
              "<Figure size 1080x720 with 2 Axes>"
            ]
          },
          "metadata": {
            "tags": [],
            "needs_background": "light"
          }
        },
        {
          "output_type": "stream",
          "text": [
            "Accuracy on test dataset :  0.9554831704668838\n"
          ],
          "name": "stdout"
        }
      ]
    },
    {
      "cell_type": "code",
      "metadata": {
        "id": "jiZYJHEH88Z0"
      },
      "source": [
        "class reseauDense_Lerelu(torch.nn.Module):\n",
        "\n",
        "  def __init__(self):\n",
        "    super(reseauDense_Lerelu, self).__init__()\n",
        "    \n",
        "    self.linear1 = torch.nn.Linear(57, 1000)\n",
        "    self.linear2 = torch.nn.Linear(1000, 250)\n",
        "    self.linear3 = torch.nn.Linear(250, 50)\n",
        "\n",
        "    self.droput = torch.nn.Dropout(0.2)\n",
        "\n",
        "    self.LeakyReLU = torch.nn.LeakyReLU()\n",
        "\n",
        "    self.softmax = torch.nn.LogSoftmax(dim=1)\n",
        "\n",
        "  def forward(self, x): \n",
        "    x = self.linear1(x)\n",
        "\n",
        "    x = self.droput(x)\n",
        "    x = self.LeakyReLU(x)\n",
        "\n",
        "    x = self.linear2(x)\n",
        "    x = self.droput(x)\n",
        "    x = self.LeakyReLU(x)\n",
        "    \n",
        "    \n",
        "    x = self.linear3(x)\n",
        "    y = self.softmax(x)\n",
        "    \n",
        "    return y"
      ],
      "execution_count": null,
      "outputs": []
    },
    {
      "cell_type": "code",
      "metadata": {
        "colab": {
          "base_uri": "https://localhost:8080/",
          "height": 246
        },
        "id": "ohrmstpXbsz3",
        "outputId": "aa7588b7-0840-4009-be45-9162e8df461d"
      },
      "source": [
        "net = reseauDense_Lerelu()\n",
        "criterion = torch.nn.NLLLoss()\n",
        "optimizer = torch.optim.Adam(net.parameters(), lr=0.0001)\n",
        "train(net, 50, criterion, optimizer)\n",
        "test(net, criterion, optimizer)\n",
        "\n",
        "shap.initjs() \n",
        "predictor = Predictor(net)\n",
        "explainer = shap.KernelExplainer(predictor.predict, x_train_df.iloc[:100,:])\n",
        "shap_values50 = explainer.shap_values(x_test_df.iloc[:nbValue,:], nsamples=500)\n",
        "\n",
        "shap.summary_plot(shap_values50, x_test_df.iloc[:nbValue,:])"
      ],
      "execution_count": null,
      "outputs": [
        {
          "output_type": "error",
          "ename": "NameError",
          "evalue": "ignored",
          "traceback": [
            "\u001b[0;31m---------------------------------------------------------------------------\u001b[0m",
            "\u001b[0;31mNameError\u001b[0m                                 Traceback (most recent call last)",
            "\u001b[0;32m<ipython-input-1-c73caa2ac64a>\u001b[0m in \u001b[0;36m<module>\u001b[0;34m()\u001b[0m\n\u001b[0;32m----> 1\u001b[0;31m \u001b[0mnet\u001b[0m \u001b[0;34m=\u001b[0m \u001b[0mreseauDense_Lerelu\u001b[0m\u001b[0;34m(\u001b[0m\u001b[0;34m)\u001b[0m\u001b[0;34m\u001b[0m\u001b[0;34m\u001b[0m\u001b[0m\n\u001b[0m\u001b[1;32m      2\u001b[0m \u001b[0mcriterion\u001b[0m \u001b[0;34m=\u001b[0m \u001b[0mtorch\u001b[0m\u001b[0;34m.\u001b[0m\u001b[0mnn\u001b[0m\u001b[0;34m.\u001b[0m\u001b[0mNLLLoss\u001b[0m\u001b[0;34m(\u001b[0m\u001b[0;34m)\u001b[0m\u001b[0;34m\u001b[0m\u001b[0;34m\u001b[0m\u001b[0m\n\u001b[1;32m      3\u001b[0m \u001b[0moptimizer\u001b[0m \u001b[0;34m=\u001b[0m \u001b[0mtorch\u001b[0m\u001b[0;34m.\u001b[0m\u001b[0moptim\u001b[0m\u001b[0;34m.\u001b[0m\u001b[0mAdam\u001b[0m\u001b[0;34m(\u001b[0m\u001b[0mnet\u001b[0m\u001b[0;34m.\u001b[0m\u001b[0mparameters\u001b[0m\u001b[0;34m(\u001b[0m\u001b[0;34m)\u001b[0m\u001b[0;34m,\u001b[0m \u001b[0mlr\u001b[0m\u001b[0;34m=\u001b[0m\u001b[0;36m0.0001\u001b[0m\u001b[0;34m)\u001b[0m\u001b[0;34m\u001b[0m\u001b[0;34m\u001b[0m\u001b[0m\n\u001b[1;32m      4\u001b[0m \u001b[0mtrain\u001b[0m\u001b[0;34m(\u001b[0m\u001b[0mnet\u001b[0m\u001b[0;34m,\u001b[0m \u001b[0;36m50\u001b[0m\u001b[0;34m,\u001b[0m \u001b[0mcriterion\u001b[0m\u001b[0;34m,\u001b[0m \u001b[0moptimizer\u001b[0m\u001b[0;34m)\u001b[0m\u001b[0;34m\u001b[0m\u001b[0;34m\u001b[0m\u001b[0m\n\u001b[1;32m      5\u001b[0m \u001b[0mtest\u001b[0m\u001b[0;34m(\u001b[0m\u001b[0mnet\u001b[0m\u001b[0;34m,\u001b[0m \u001b[0mcriterion\u001b[0m\u001b[0;34m,\u001b[0m \u001b[0moptimizer\u001b[0m\u001b[0;34m)\u001b[0m\u001b[0;34m\u001b[0m\u001b[0;34m\u001b[0m\u001b[0m\n",
            "\u001b[0;31mNameError\u001b[0m: name 'reseauDense_Lerelu' is not defined"
          ]
        }
      ]
    }
  ]
}